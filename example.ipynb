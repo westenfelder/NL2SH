{
 "cells": [
  {
   "cell_type": "markdown",
   "metadata": {},
   "source": [
    "# LLM-Supported Natural Language to Bash Translation"
   ]
  },
  {
   "cell_type": "markdown",
   "metadata": {},
   "source": [
    "## Load Dataset"
   ]
  },
  {
   "cell_type": "code",
   "execution_count": null,
   "metadata": {},
   "outputs": [],
   "source": [
    "from datasets import load_dataset\n",
    "\n",
    "# note the config parameter, NOT the split parameter, selects the train/test data\n",
    "train_dataset = load_dataset(\"westenfelder/NL2SH-ALFA\", \"train\", split=\"train\")\n",
    "test_dataset = load_dataset(\"westenfelder/NL2SH-ALFA\", \"test\", split=\"train\")\n",
    "\n",
    "print(f\"Train dataset size: {len(train_dataset)} rows\")\n",
    "print(f\"Test dataset size: {len(test_dataset)} rows\")\n",
    "\n",
    "print(\"\\nExample Row\")\n",
    "print(f\"Natural Language Task: {train_dataset[0]['nl']}\")\n",
    "print(f\"Bash Command: {train_dataset[0]['bash']}\")"
   ]
  },
  {
   "cell_type": "markdown",
   "metadata": {},
   "source": [
    "## Load Model"
   ]
  },
  {
   "cell_type": "code",
   "execution_count": 2,
   "metadata": {},
   "outputs": [],
   "source": [
    "import torch\n",
    "import random\n",
    "from transformers import AutoTokenizer, AutoModelForCausalLM\n",
    "\n",
    "model_id = \"meta-llama/Llama-3.2-1B-Instruct\"\n",
    "tokenizer = AutoTokenizer.from_pretrained(model_id)\n",
    "tokenizer.pad_token = tokenizer.eos_token\n",
    "model = AutoModelForCausalLM.from_pretrained(model_id, torch_dtype=torch.bfloat16).to(\"cuda\")\n",
    "\n",
    "# for reproducibility\n",
    "seed = 123\n",
    "torch.manual_seed(seed)\n",
    "random.seed(seed)\n",
    "torch.cuda.manual_seed_all(seed)\n",
    "\n",
    "def translate(prompt, system_prompt=\"Your task is to translate a natural language instruction to a Bash command. You will receive an instruction in English and output a Bash command that can be run in a Linux terminal.\"):\n",
    "    messages = [\n",
    "        {\"role\": \"system\", \"content\": system_prompt},\n",
    "        {\"role\": \"user\", \"content\": f\"{prompt}\"},\n",
    "    ]\n",
    "\n",
    "    tokens = tokenizer.apply_chat_template(\n",
    "        messages,\n",
    "        add_generation_prompt=True,\n",
    "        tokenize=True,\n",
    "        return_tensors=\"pt\"\n",
    "    ).to(model.device)\n",
    "\n",
    "    attention_mask = torch.ones_like(tokens)\n",
    "\n",
    "    terminators = [\n",
    "        tokenizer.eos_token_id,\n",
    "        tokenizer.convert_tokens_to_ids(\"<|eot_id|>\")\n",
    "    ]\n",
    "\n",
    "    outputs = model.generate(\n",
    "        tokens,\n",
    "        attention_mask=attention_mask,\n",
    "        max_new_tokens=100,\n",
    "        eos_token_id=terminators,\n",
    "        pad_token_id=tokenizer.eos_token_id,\n",
    "        do_sample=False,\n",
    "        temperature=None,\n",
    "        top_p=None,\n",
    "    )\n",
    "    \n",
    "    # remove the prompt from the output\n",
    "    response = outputs[0][tokens.shape[-1]:]\n",
    "    return tokenizer.decode(response, skip_special_tokens=True)"
   ]
  },
  {
   "cell_type": "code",
   "execution_count": 3,
   "metadata": {},
   "outputs": [],
   "source": [
    "import re\n",
    "\n",
    "# strip markdown formatting\n",
    "def parse_bash(text):\n",
    "    patterns = [\n",
    "        r\"```bash\\s*(.*?)\\s*```\",\n",
    "        r\"```(.*?)```\",\n",
    "        r\"`(.*?)`\",\n",
    "    ]\n",
    "    \n",
    "    for pattern in patterns:\n",
    "        match = re.search(pattern, text, re.DOTALL)\n",
    "        if match:\n",
    "            return match.group(1).strip()\n",
    "    \n",
    "    return text"
   ]
  },
  {
   "cell_type": "code",
   "execution_count": null,
   "metadata": {},
   "outputs": [],
   "source": [
    "# example usage\n",
    "natural_language_task = train_dataset[0][\"nl\"]\n",
    "ground_truth_command = train_dataset[0][\"bash\"]\n",
    "model_output = translate(natural_language_task)\n",
    "model_command = parse_bash(model_output)\n",
    "\n",
    "print(f\"Natural Language Task: {natural_language_task}\")\n",
    "print(f\"Ground Truth Command: {ground_truth_command}\")\n",
    "print(f\"Model Command: {model_command}\")"
   ]
  },
  {
   "cell_type": "markdown",
   "metadata": {},
   "source": [
    "## Benchmark Model"
   ]
  },
  {
   "cell_type": "code",
   "execution_count": null,
   "metadata": {},
   "outputs": [],
   "source": [
    "from icalfa import submit_command\n",
    "from tqdm import tqdm\n",
    "\n",
    "num_correct = 0\n",
    "total = len(test_dataset)\n",
    "\n",
    "for index, row in tqdm(enumerate(test_dataset), total=total):\n",
    "    natural_language_task = row['nl']\n",
    "    model_output = translate(natural_language_task)\n",
    "    model_command = parse_bash(model_output)\n",
    "    num_correct += submit_command(index=index, command=model_command, eval_mode=\"embed\", eval_param=0.75)\n",
    "\n",
    "print(f\"Model Accuracy: {(num_correct/total):0.2f}\")"
   ]
  }
 ],
 "metadata": {
  "kernelspec": {
   "display_name": "nl2sh_venv",
   "language": "python",
   "name": "python3"
  },
  "language_info": {
   "codemirror_mode": {
    "name": "ipython",
    "version": 3
   },
   "file_extension": ".py",
   "mimetype": "text/x-python",
   "name": "python",
   "nbconvert_exporter": "python",
   "pygments_lexer": "ipython3",
   "version": "3.10.12"
  }
 },
 "nbformat": 4,
 "nbformat_minor": 2
}
